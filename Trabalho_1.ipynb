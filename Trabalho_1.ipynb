{
  "cells": [
    {
      "cell_type": "markdown",
      "metadata": {
        "id": "DHO6AESuxnGM"
      },
      "source": [
        "# Trabalho 1 - Nivelamento\n",
        "\n",
        "Considere os datasets abaixo, estratégias de pré-processamento, medidas de avaliação, métodos de comparação estatística e os seguintes algoritmos de aprendizado de máquina: árvore de decisão, random forest e k-nearest neighbor. A partir disso, responda as seguintes perguntas:\n",
        "\n",
        "1. Qual o algoritmo de AM mais adequado para cada problema?\n",
        "2. Qual o algoritmo de AM mais adequado para todos os problemas?\n",
        "\n",
        "Para responder essas questões construa um notebook no colab ou um ambiente similar. Documente de forma clara cada passo e justifique suas decisões."
      ]
    },
    {
      "cell_type": "code",
      "execution_count": 1,
      "metadata": {
        "id": "LOdk7BJHxmH4"
      },
      "outputs": [],
      "source": [
        "from sklearn.feature_selection import mutual_info_classif\n",
        "from sklearn.preprocessing import MinMaxScaler\n",
        "from sklearn.metrics import confusion_matrix\n",
        "from sklearn.metrics import accuracy_score\n",
        "import matplotlib.patches as mpatches\n",
        "from scipy.io import arff\n",
        "import matplotlib as plt\n",
        "import urllib.request\n",
        "import pandas as pd\n",
        "import numpy as np\n",
        "import io"
      ]
    },
    {
      "cell_type": "code",
      "execution_count": 2,
      "metadata": {},
      "outputs": [],
      "source": [
        "PhishingWebsites_link = \"https://www.openml.org/data/download/1798106/phpV5QYya\"\n",
        "arrhythmia_link       = \"https://www.openml.org/data/download/53551/arrhythmia.arff\"\n",
        "Satellite_link        = \"https://www.openml.org/data/download/16787463/phpZrCzJR\"\n",
        "airlines_link         = \"https://www.openml.org/data/download/66526/phpvcoG8S\"\n",
        "AedesSex_link         = \"https://github.com/denismr/Classification-and-Counting-with-Recurrent-Contexts/raw/master/codeAndData/data/AedesSex.csv\"\n",
        "phoneme_link          = \"https://www.openml.org/data/download/1592281/php8Mz7BG\"\n",
        "adult_link            = \"https://www.openml.org/data/download/1595261/phpMawTba\""
      ]
    },
    {
      "cell_type": "code",
      "execution_count": 3,
      "metadata": {},
      "outputs": [],
      "source": [
        "def loadDataset_Arff(url: str) -> pd.DataFrame:\n",
        "  ftpstream = urllib.request.urlopen(url)\n",
        "  return pd.DataFrame(arff.loadarff(io.StringIO(ftpstream.read().decode('utf-8')))[0])\n"
      ]
    },
    {
      "cell_type": "code",
      "execution_count": 57,
      "metadata": {},
      "outputs": [],
      "source": [
        "def get_dummies(df: pd.DataFrame, col:str) -> pd.DataFrame:\n",
        "  return pd.get_dummies(df,prefix=col,prefix_sep='.',columns=[col]).copy()"
      ]
    },
    {
      "cell_type": "code",
      "execution_count": 5,
      "metadata": {},
      "outputs": [],
      "source": [
        "def select_nominals(dataset: pd.DataFrame) -> list:\n",
        "    \"\"\"\n",
        "    Seleciona os atributos não numéricos do dataset.\n",
        "    \"\"\"\n",
        "    att: list = []\n",
        "    for i, v in dataset.dtypes.items():\n",
        "        if(v == \"object\"):\n",
        "            att.append(i)\n",
        "    return att\n",
        "\n",
        "def is_binary_nominal(nominals: list) -> \"tuple[bool, list[str]]\":\n",
        "    \"\"\"\n",
        "    Retorna se uma lista de atributos nominais contém apenas 2 valores distintos ou não.\n",
        "    \"\"\"\n",
        "    unique_att: \"list[str]\" = []\n",
        "    for n in nominals:\n",
        "        if(not n in unique_att):\n",
        "            unique_att.append(n)\n",
        "    return len(unique_att) == 2, unique_att"
      ]
    },
    {
      "cell_type": "code",
      "execution_count": 6,
      "metadata": {},
      "outputs": [],
      "source": [
        "def convert_binary_nominal_to_numeric(dataset: pd.DataFrame, attribute: str) -> pd.DataFrame:\n",
        "    \"\"\"\n",
        "    Converte atributos nominais binários de um dataset para numéricos binários (0 ou 1).\n",
        "    \"\"\"\n",
        "    new_dt = dataset.copy()\n",
        "    attributes = new_dt[attribute]\n",
        "    unq_attr: dict['str', int] = {}\n",
        "    # Pegando os atributos únicos\n",
        "    i = 0\n",
        "    for a in attributes:\n",
        "        if(not a in unq_attr):\n",
        "            unq_attr[a] = i\n",
        "            i += 1\n",
        "    # Substituindo os valores nominais por numéricos.\n",
        "    for u in unq_attr:\n",
        "        new_dt.loc[new_dt[attribute] == u, attribute] = unq_attr[u]\n",
        "    return new_dt"
      ]
    },
    {
      "cell_type": "code",
      "execution_count": 7,
      "metadata": {},
      "outputs": [],
      "source": [
        "def convert_nominal_to_numeric(dataset: pd.DataFrame) -> pd.DataFrame:\n",
        "    \"\"\"\n",
        "    Converte todos os atributos nominais de um dataset para atributos numéricos.\n",
        "    \"\"\"\n",
        "    nominals = select_nominals(dataset)\n",
        "    new_dt = dataset.copy()\n",
        "    for att in nominals:\n",
        "        binary, values = is_binary_nominal(new_dt[att])\n",
        "        if(binary): # Atributo nominal binário\n",
        "            new_dt = convert_binary_nominal_to_numeric(new_dt, att)\n",
        "        else: # Atributo nominal não binário\n",
        "            new_dt = get_dummies(new_dt, att)\n",
        "    return new_dt"
      ]
    },
    {
      "cell_type": "code",
      "execution_count": 83,
      "metadata": {},
      "outputs": [],
      "source": [
        "def proportion(Dataset,target=\"Target\"):\n",
        "  target_count = Dataset[target].value_counts()\n",
        "  print('Class 0:', target_count[0])\n",
        "  print('Class 1:', target_count[1])\n",
        "  print('Proporção:', round(target_count[1] / target_count[0], 2), ': 1')\n",
        "  target_count.plot(kind='bar', title='Count (target)',color = ['#1F77B4', '#FF7F0E']);"
      ]
    },
    {
      "cell_type": "code",
      "execution_count": 88,
      "metadata": {},
      "outputs": [],
      "source": [
        "def normalize(dataset) -> pd.DataFrame:\n",
        "  # Separação dos dados preditivos e dos valores\n",
        "  X = dataset.drop(['Target'], axis=1).copy()\n",
        "  Y = dataset['Target'].copy()\n",
        "\n",
        "  # Normalização\n",
        "  scaler = MinMaxScaler()\n",
        "  X = pd.DataFrame(scaler.fit_transform(X), columns=X.columns)\n",
        "  dataset = X\n",
        "  dataset[\"Target\"] = Y\n",
        "  return dataset"
      ]
    },
    {
      "cell_type": "markdown",
      "metadata": {},
      "source": [
        "# Lendo todos os datasets"
      ]
    },
    {
      "cell_type": "code",
      "execution_count": 89,
      "metadata": {},
      "outputs": [],
      "source": [
        "Dataset_PhishingWebsites = loadDataset_Arff(PhishingWebsites_link)\n",
        "Dataset_arrhythmia = loadDataset_Arff(arrhythmia_link)\n",
        "Dataset_Satellite = loadDataset_Arff(Satellite_link)\n",
        "Dataset_airlines = loadDataset_Arff(airlines_link)\n",
        "Dataset_AedesSex = pd.read_csv(AedesSex_link)\n",
        "Dataset_phoneme = loadDataset_Arff(phoneme_link)\n",
        "Dataset_adult = loadDataset_Arff(adult_link)"
      ]
    },
    {
      "cell_type": "markdown",
      "metadata": {},
      "source": [
        "Abaixo será feito a conversão das classes targets para True e False, e trocado o nome da coluna para Target para as que não estão. Também será feito uma analise de distribuição e procura de dados nominais."
      ]
    },
    {
      "cell_type": "code",
      "execution_count": 90,
      "metadata": {},
      "outputs": [],
      "source": [
        "Dataset_PhishingWebsites['Target'] = [True if x == '-1'.encode() else False for x in Dataset_PhishingWebsites['Result']]\n",
        "Dataset_PhishingWebsites = Dataset_PhishingWebsites.drop(['Result'],axis=1)\n",
        "# Dataset_PhishingWebsites.info()\n",
        "# proportion(Dataset_PhishingWebsites)"
      ]
    },
    {
      "cell_type": "code",
      "execution_count": 91,
      "metadata": {},
      "outputs": [],
      "source": [
        "\n",
        "Dataset_arrhythmia['Target'] = [True if x == 'P'.encode() else False for x in Dataset_arrhythmia['binaryClass']]\n",
        "Dataset_arrhythmia = Dataset_arrhythmia.drop(['binaryClass'],axis=1)\n",
        "# Dataset_arrhythmia\n",
        "# proportion(Dataset_arrhythmia)"
      ]
    },
    {
      "cell_type": "code",
      "execution_count": 92,
      "metadata": {},
      "outputs": [],
      "source": [
        "##Sem nominais usando a função select_nominals\n",
        "Dataset_Satellite['Target'] = [True if x == 'Anomaly'.encode() else False for x in Dataset_Satellite['Target']]\n",
        "# proportion(Dataset_Satellite)\n"
      ]
    },
    {
      "cell_type": "code",
      "execution_count": null,
      "metadata": {},
      "outputs": [],
      "source": [
        "##Dataset com muitos dados nominais, para aplicar o knn será necessário usar a função getdummies em AirportFrom e AirportTo.\n",
        "Dataset_airlines['Target'] = [True if x == '1'.encode() else False for x in Dataset_airlines['Delay']]\n",
        "Dataset_airlines = Dataset_airlines.drop(['delay'],axis=1)\n",
        "# Dataset_airlines = get_dummies(Dataset_airlines,'AirportFrom')\n",
        "# Dataset_airlines = get_dummies(Dataset_airlines,'AirportTo')\n",
        "# proportion(Dataset_airlines)\n",
        "# Dataset_airlines"
      ]
    },
    {
      "cell_type": "code",
      "execution_count": 95,
      "metadata": {},
      "outputs": [],
      "source": [
        "Dataset_AedesSex['Target'] = [True if x == 'F' else False for x in Dataset_AedesSex['sex']]\n",
        "Dataset_AedesSex = Dataset_AedesSex.drop(['sex'],axis=1)\n",
        "# proportion(Dataset_AedesSex)\n",
        "# Dataset_AedesSex\n"
      ]
    },
    {
      "cell_type": "code",
      "execution_count": 96,
      "metadata": {},
      "outputs": [],
      "source": [
        "##Dataset desbalanceado, analisar como se comporta nos algoritmos de aprendizagem para saber se é necessário balancear.\n",
        "Dataset_phoneme['Target'] = [True if x == '1'.encode() else False for x in Dataset_phoneme['Class']]\n",
        "Dataset_phoneme = Dataset_phoneme.drop(['Class'],axis=1)\n",
        "# proportion(Dataset_phoneme)\n",
        "# Dataset_phoneme"
      ]
    },
    {
      "cell_type": "code",
      "execution_count": 97,
      "metadata": {},
      "outputs": [],
      "source": [
        "##Dataset com muitas colunas nominais, será necessário gerar o dummie das mesmas.\n",
        "Dataset_adult['Target'] = [True if x == '<=50K'.encode() else False for x in Dataset_adult['class']]\n",
        "Dataset_adult = Dataset_adult.drop(['class'],axis=1)\n",
        "# Dataset_adult"
      ]
    },
    {
      "cell_type": "code",
      "execution_count": null,
      "metadata": {},
      "outputs": [],
      "source": [
        "## NOR_Dataset_PhishingWebsites = normalize(Dataset_PhishingWebsites)\n",
        "## NOR_Dataset_arrhythmia = normalize(Dataset_arrhythmia)\n",
        "## NOR_Dataset_Satellite = normalize(Dataset_Satellite)\n",
        "## NOR_Dataset_AedesSex = normalize(Dataset_AedesSex)\n",
        "## NOR_Dataset_phoneme = normalize(Dataset_phoneme)\n",
        "\n",
        "##Para normalizar esses datasets precisará gerar os dumies\n",
        "## # NOR_Dataset_airlines = normalize(Dataset_airlines)\n",
        "## # NOR_Dataset_adult = normalize(Dataset_adult)\n",
        "\n"
      ]
    },
    {
      "cell_type": "code",
      "execution_count": null,
      "metadata": {},
      "outputs": [],
      "source": []
    }
  ],
  "metadata": {
    "colab": {
      "collapsed_sections": [],
      "name": "Trabalho_1.ipynb",
      "provenance": []
    },
    "interpreter": {
      "hash": "e7370f93d1d0cde622a1f8e1c04877d8463912d04d973331ad4851f04de6915a"
    },
    "kernelspec": {
      "display_name": "Python 3.10.2 64-bit",
      "language": "python",
      "name": "python3"
    },
    "language_info": {
      "codemirror_mode": {
        "name": "ipython",
        "version": 3
      },
      "file_extension": ".py",
      "mimetype": "text/x-python",
      "name": "python",
      "nbconvert_exporter": "python",
      "pygments_lexer": "ipython3",
      "version": "3.10.2"
    }
  },
  "nbformat": 4,
  "nbformat_minor": 0
}
