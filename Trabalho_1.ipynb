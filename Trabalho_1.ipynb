{
  "cells": [
    {
      "cell_type": "markdown",
      "metadata": {
        "id": "DHO6AESuxnGM"
      },
      "source": [
        "# Trabalho 1 - Nivelamento\n",
        "\n",
        "Considere os datasets abaixo, estratégias de pré-processamento, medidas de avaliação, métodos de comparação estatística e os seguintes algoritmos de aprendizado de máquina: árvore de decisão, random forest e k-nearest neighbor. A partir disso, responda as seguintes perguntas:\n",
        "\n",
        "1. Qual o algoritmo de AM mais adequado para cada problema?\n",
        "2. Qual o algoritmo de AM mais adequado para todos os problemas?\n",
        "\n",
        "Para responder essas questões construa um notebook no colab ou um ambiente similar. Documente de forma clara cada passo e justifique suas decisões."
      ]
    },
    {
      "cell_type": "markdown",
      "metadata": {
        "id": "Hutz7IVAxuxv"
      },
      "source": [
        "### Datasets\n",
        "Considere os seguintes datasets:\n",
        "\n",
        "+ **Arrhythmia:** Binarized version of the original data set (see version 1). The multi-class target feature is converted to a two-class nominal target feature by re-labeling the majority class as positive ('P') and all others as negative ('N'). [link](https://www.openml.org/search?type=data&sort=runs&id=1017&status=active)\n",
        "\n",
        "+ **Airlines:** Airlines Dataset Inspired in the regression dataset from Elena Ikonomovska. The task is to predict whether a given flight will be delayed, given the information of the scheduled departure. [link] (https://www.openml.org/search?type=data&sort=runs&id=1169&status=active)\n",
        "\n",
        "+ **Phoneme:** The aim of this dataset is to distinguish between nasal (class 0) and oral sounds (class 1). Five different attributes were chosen to characterize each vowel: they are the amplitudes of the five first harmonics AHi, normalised by the total energy Ene (integrated on all the frequencies): AHi/Ene. The phonemes are transcribed as follows: sh as in she, dcl as in dark, iy as the vowel in she, aa as the vowel in dark, and ao as the first vowel in water. [link] (https://www.openml.org/search?type=data&sort=runs&id=1489&status=active)\n",
        "\n",
        "+ **Phishing Websites:** One of the challenges faced by our research was the unavailability of reliable training datasets. In fact this challenge faces any researcher in the field. However, although plenty of articles about predicting phishing websites have been disseminated these days, no reliable training dataset has been published publically, may be because there is no agreement in literature on the definitive features that characterize phishing webpages, hence it is difficult to shape a dataset that covers all possible features. In this dataset, we shed light on the important features that have proved to be sound and effective in predicting phishing websites. [link](https://www.openml.org/search?type=data&sort=runs&id=4534&status=active)\n",
        "\n",
        "+ **Satellite:** The satellite dataset comprises of features extracted from satellite observations. In particular, each image was taken under four different light wavelength, two in visible light (green and red) and two infrared images. The task of the original dataset is to classify the image into the soil category of the observed region. [link](https://www.openml.org/search?type=data&sort=runs&id=40900&status=active)\n",
        "\n",
        "+ **Adult:** Prediction task is to determine whether a person makes over 50K a year. Extraction was done by Barry Becker from the 1994 Census database. A set of reasonably clean records was extracted using the following conditions: ((AAGE>16) && (AGI>100) && (AFNLWGT>1)&& (HRSWK>0)).[link](https://www.openml.org/search?type=data&sort=runs&id=1590&status=active)\n",
        "\n",
        "+ **AedesSex:** This dataset has features of sounds gathered using a infrared sensor from _Ae. aegypti_ mosquitoes. The objetive is to classify males and females mosquitoes from their sounds. **Sex** feature is the label. [link](https://github.com/denismr/Classification-and-Counting-with-Recurrent-Contexts/blob/master/codeAndData/data/AedesSex.csv)\n",
        "\n"
      ]
    },
    {
      "cell_type": "markdown",
      "metadata": {
        "id": "f8ExXJnto2O4"
      },
      "source": [
        "### Nome:"
      ]
    },
    {
      "cell_type": "code",
      "execution_count": 14,
      "metadata": {
        "id": "LOdk7BJHxmH4"
      },
      "outputs": [],
      "source": [
        "from sklearn.feature_selection import mutual_info_classif\n",
        "from sklearn.preprocessing import MinMaxScaler\n",
        "from sklearn.metrics import confusion_matrix\n",
        "from sklearn.metrics import accuracy_score\n",
        "import matplotlib.patches as mpatches\n",
        "from scipy.io import arff\n",
        "import matplotlib as plt\n",
        "import urllib.request\n",
        "import pandas as pd\n",
        "import numpy as np\n",
        "import io"
      ]
    },
    {
      "cell_type": "code",
      "execution_count": 10,
      "metadata": {},
      "outputs": [],
      "source": [
        "PhishingWebsites_link = \"https://www.openml.org/data/download/1798106/phpV5QYya\"\n",
        "arrhythmia_link       = \"https://www.openml.org/data/download/53551/arrhythmia.arff\"\n",
        "Satellite_link        = \"https://www.openml.org/data/download/16787463/phpZrCzJR\"\n",
        "airlines_link         = \"https://www.openml.org/data/download/66526/phpvcoG8S\"\n",
        "AedesSex_link         = \"https://github.com/denismr/Classification-and-Counting-with-Recurrent-Contexts/raw/master/codeAndData/data/AedesSex.csv\"\n",
        "phoneme_link          = \"https://www.openml.org/data/download/1592281/php8Mz7BG\"\n",
        "adult_link            = \"https://www.openml.org/data/download/1595261/phpMawTba\""
      ]
    },
    {
      "cell_type": "code",
      "execution_count": 3,
      "metadata": {},
      "outputs": [
        {
          "ename": "NameError",
          "evalue": "name 'pd' is not defined",
          "output_type": "error",
          "traceback": [
            "\u001b[0;31m---------------------------------------------------------------------------\u001b[0m",
            "\u001b[0;31mNameError\u001b[0m                                 Traceback (most recent call last)",
            "\u001b[1;32m/home/lucas/Aulas/MDD/Trabalho_1.ipynb Cell 6'\u001b[0m in \u001b[0;36m<cell line: 1>\u001b[0;34m()\u001b[0m\n\u001b[0;32m----> <a href='vscode-notebook-cell:/home/lucas/Aulas/MDD/Trabalho_1.ipynb#ch0000005?line=0'>1</a>\u001b[0m \u001b[39mdef\u001b[39;00m \u001b[39mloadDataset_Arff\u001b[39m(url: \u001b[39mstr\u001b[39m) \u001b[39m-\u001b[39m\u001b[39m>\u001b[39m pd\u001b[39m.\u001b[39mDataFrame:\n\u001b[1;32m      <a href='vscode-notebook-cell:/home/lucas/Aulas/MDD/Trabalho_1.ipynb#ch0000005?line=1'>2</a>\u001b[0m   ftpstream \u001b[39m=\u001b[39m urllib\u001b[39m.\u001b[39mrequest\u001b[39m.\u001b[39murlopen(url)\n\u001b[1;32m      <a href='vscode-notebook-cell:/home/lucas/Aulas/MDD/Trabalho_1.ipynb#ch0000005?line=2'>3</a>\u001b[0m   \u001b[39mreturn\u001b[39;00m pd\u001b[39m.\u001b[39mDataFrame(arff\u001b[39m.\u001b[39mloadarff(io\u001b[39m.\u001b[39mStringIO(ftpstream\u001b[39m.\u001b[39mread()\u001b[39m.\u001b[39mdecode(\u001b[39m'\u001b[39m\u001b[39mutf-8\u001b[39m\u001b[39m'\u001b[39m)))[\u001b[39m0\u001b[39m])\n",
            "\u001b[0;31mNameError\u001b[0m: name 'pd' is not defined"
          ]
        }
      ],
      "source": [
        "def loadDataset_Arff(url: str) -> pd.DataFrame:\n",
        "  ftpstream = urllib.request.urlopen(url)\n",
        "  return pd.DataFrame(arff.loadarff(io.StringIO(ftpstream.read().decode('utf-8')))[0])"
      ]
    },
    {
      "cell_type": "code",
      "execution_count": null,
      "metadata": {},
      "outputs": [],
      "source": [
        "# def printAccuracy(name: str, y_test, y_pred) -> None:\n",
        "#     accuracy = accuracy_score(y_test, y_pred)\n",
        "#     print(\"{0} -> Acurácia: {1:.2f}%\".format(name, accuracy * 100.0))\n",
        "\n",
        "# def verify_imbalance(dataset: pd.DataFrame, target: str) -> None:\n",
        "#     \"\"\"\n",
        "#     Verifica o balanceamento de um dataset.\n",
        "#     \"\"\"\n",
        "#     fig, ax = plt.subplots(figsize=(10, 7))\n",
        "#     labels, counts = np.unique(dataset[target], return_counts=True)\n",
        "#     plt.bar(labels, counts, align='center', color=['blue', '#26272b'])\n",
        "#     plt.gca().set_xticks(labels)\n",
        "#     plt.ylabel(\"Número de exemplos\", fontsize=18)\n",
        "#     plt.title(\"Distribuição das Classes\", fontsize=24)\n",
        "#     red_patch = mpatches.Patch(color='blue', label=\"{0:.2f}%\".format(100*counts[0]/(counts[0]+counts[1])))\n",
        "#     blue_patch = mpatches.Patch(color='#26272b', label=\"{0:.2f}%\".format(100*counts[1]/(counts[0]+counts[1])))\n",
        "#     plt.legend(handles=[red_patch, blue_patch])\n",
        "\n",
        "# def normalize(dataset: pd.DataFrame, target: str) -> pd.DataFrame:\n",
        "#     X = dataset.drop([target], axis=1).copy()\n",
        "#     Y = dataset[target].copy()\n",
        "\n",
        "#     # Normalização\n",
        "#     scaler = MinMaxScaler()\n",
        "#     normalized_dataset = pd.DataFrame(scaler.fit_transform(X), columns=X.columns)\n",
        "#     normalized_dataset[target] = Y\n",
        "#     return normalized_dataset.copy()\n",
        "\n",
        "# def info_gain_attr(dataset: pd.DataFrame, target: str, n_attr: int) -> list:\n",
        "#     \"\"\"\n",
        "#     Seleção de atributos por ganho de informação.\n",
        "#     \"\"\"\n",
        "#     X = dataset.drop([target], axis=1).copy()\n",
        "#     Y = dataset[target].copy()\n",
        "#     info = mutual_info_classif(X,Y)\n",
        "#     selected_attr = X.columns[np.argsort(np.abs(info))][-n_attr:].tolist()\n",
        "#     return selected_attr\n",
        "\n",
        "# def confusionMatrix(y_test, y_pred, title: str) -> None:\n",
        "#     \"\"\"\n",
        "#     Plota a matriz de confusão.\n",
        "#     \"\"\"\n",
        "#     conf_mat = confusion_matrix(y_true=y_test, y_pred=y_pred)\n",
        "\n",
        "#     fig = plt.figure(figsize=(10, 7))\n",
        "#     ax = fig.add_subplot(111)\n",
        "#     cax = ax.matshow(conf_mat, cmap=plt.cm.Blues)\n",
        "#     fig.colorbar(cax)\n",
        "#     for (i, j), z in np.ndenumerate(conf_mat):\n",
        "#         ax.text(j, i, '{:0.0f}'.format(z), ha='center', va='center')\n",
        "\n",
        "#     plt.xlabel('Predicted', fontsize=18)\n",
        "#     plt.ylabel('Expected', fontsize=18)\n",
        "#     plt.suptitle(\"Matriz de confusão - {0}\".format(title), fontsize=20)"
      ]
    },
    {
      "cell_type": "markdown",
      "metadata": {},
      "source": [
        "# Lendo todos os datasets"
      ]
    },
    {
      "cell_type": "code",
      "execution_count": 2,
      "metadata": {},
      "outputs": [
        {
          "ename": "NameError",
          "evalue": "name 'loadDataset_Arff' is not defined",
          "output_type": "error",
          "traceback": [
            "\u001b[0;31m---------------------------------------------------------------------------\u001b[0m",
            "\u001b[0;31mNameError\u001b[0m                                 Traceback (most recent call last)",
            "\u001b[1;32m/home/lucas/Aulas/MDD/Trabalho_1.ipynb Cell 9'\u001b[0m in \u001b[0;36m<cell line: 1>\u001b[0;34m()\u001b[0m\n\u001b[0;32m----> <a href='vscode-notebook-cell:/home/lucas/Aulas/MDD/Trabalho_1.ipynb#ch0000008?line=0'>1</a>\u001b[0m Dataset_PhishingWebsites \u001b[39m=\u001b[39m loadDataset_Arff(PhishingWebsites_link)\n",
            "\u001b[0;31mNameError\u001b[0m: name 'loadDataset_Arff' is not defined"
          ]
        }
      ],
      "source": [
        "Dataset_PhishingWebsites = loadDataset_Arff(PhishingWebsites_link)\n",
        "# Dataset_arrhythmia = loadDataset_Arff(arrhythmia_link)\n",
        "# Dataset_Satellite = loadDataset_Arff(Satellite_link)\n",
        "# Dataset_airlines = loadDataset_Arff(airlines_link)\n",
        "# Dataset_AedesSex = pd.read_csv(AedesSex_link)\n",
        "# Dataset_phoneme = loadDataset_Arff(phoneme_link)\n",
        "# Dataset_adult = loadDataset_Arff(adult_link)"
      ]
    },
    {
      "cell_type": "code",
      "execution_count": 1,
      "metadata": {},
      "outputs": [
        {
          "ename": "NameError",
          "evalue": "name 'Dataset_PhishingWebsites' is not defined",
          "output_type": "error",
          "traceback": [
            "\u001b[0;31m---------------------------------------------------------------------------\u001b[0m",
            "\u001b[0;31mNameError\u001b[0m                                 Traceback (most recent call last)",
            "\u001b[1;32m/home/lucas/Aulas/MDD/Trabalho_1.ipynb Cell 10'\u001b[0m in \u001b[0;36m<cell line: 1>\u001b[0;34m()\u001b[0m\n\u001b[0;32m----> <a href='vscode-notebook-cell:/home/lucas/Aulas/MDD/Trabalho_1.ipynb#ch0000009?line=0'>1</a>\u001b[0m Dataset_PhishingWebsites\n",
            "\u001b[0;31mNameError\u001b[0m: name 'Dataset_PhishingWebsites' is not defined"
          ]
        }
      ],
      "source": [
        "Dataset_PhishingWebsites"
      ]
    },
    {
      "cell_type": "code",
      "execution_count": null,
      "metadata": {},
      "outputs": [],
      "source": []
    }
  ],
  "metadata": {
    "colab": {
      "collapsed_sections": [],
      "name": "Trabalho_1.ipynb",
      "provenance": []
    },
    "interpreter": {
      "hash": "e7370f93d1d0cde622a1f8e1c04877d8463912d04d973331ad4851f04de6915a"
    },
    "kernelspec": {
      "display_name": "Python 3.10.2 64-bit",
      "language": "python",
      "name": "python3"
    },
    "language_info": {
      "codemirror_mode": {
        "name": "ipython",
        "version": 3
      },
      "file_extension": ".py",
      "mimetype": "text/x-python",
      "name": "python",
      "nbconvert_exporter": "python",
      "pygments_lexer": "ipython3",
      "version": "3.10.2"
    }
  },
  "nbformat": 4,
  "nbformat_minor": 0
}
